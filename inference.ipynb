{
 "cells": [
  {
   "cell_type": "code",
   "execution_count": 1,
   "id": "acf40d87",
   "metadata": {},
   "outputs": [],
   "source": [
    "from transformers import AutoModelForSequenceClassification, AutoTokenizer\n",
    "import torch\n",
    "import evaluate\n",
    "from utils import Utils\n",
    "import config\n",
    "from sklearn.metrics import f1_score\n",
    "from model import Intentmodel\n",
    "from tokenizer import Tokenizer\n",
    "utils_obj = Utils()\n",
    "model_obj = Intentmodel()\n",
    "tokenizer_obj = Tokenizer()\n",
    "model_name = config.MODEL_PATH\n",
    "intent_index_mapping = config.INTENT_INDEX_MAPPING"
   ]
  },
  {
   "cell_type": "code",
   "execution_count": 3,
   "id": "740de2ba",
   "metadata": {},
   "outputs": [],
   "source": [
    "model = model_obj.initialize_inference_model(\"resu\")\n",
    "tokenizer = tokenizer_obj.initialize_inference_model(args.modelfile_path)"
   ]
  },
  {
   "cell_type": "code",
   "execution_count": 4,
   "id": "fa9609c5",
   "metadata": {},
   "outputs": [],
   "source": [
    "index_intent_mapping = utils_obj.get_index_intent_mapping(intent_index_mapping)"
   ]
  },
  {
   "cell_type": "code",
   "execution_count": 9,
   "id": "9ae37bb0",
   "metadata": {},
   "outputs": [],
   "source": [
    "test_df = utils_obj.load_data(\"Dataset/valid_data.csv\")\n",
    "transcriptions = test_df[\"transcription\"].tolist()\n",
    "actions = test_df[\"action\"].tolist()\n",
    "action_index = []\n",
    "for act in actions:\n",
    "    action_index.append(intent_index_mapping[act])\n"
   ]
  },
  {
   "cell_type": "code",
   "execution_count": 6,
   "id": "75c6d96a",
   "metadata": {},
   "outputs": [],
   "source": [
    "predicted_action_index = []\n",
    "for text in transcriptions:\n",
    "    inputs = tokenizer(text, return_tensors=\"pt\")\n",
    "    logits = model(**inputs).logits\n",
    "    pred_class_idx = torch.argmax(logits).item()\n",
    "    predicted_action_index.append(pred_class_idx)\n",
    "    "
   ]
  },
  {
   "cell_type": "code",
   "execution_count": 7,
   "id": "9dd22a0d",
   "metadata": {},
   "outputs": [],
   "source": [
    "f1_score = f1_score(action_index, predicted_action_index, average=\"micro\")"
   ]
  },
  {
   "cell_type": "code",
   "execution_count": 8,
   "id": "09827532",
   "metadata": {},
   "outputs": [
    {
     "data": {
      "text/plain": [
       "1.0"
      ]
     },
     "execution_count": 8,
     "metadata": {},
     "output_type": "execute_result"
    }
   ],
   "source": [
    "f1_score"
   ]
  }
 ],
 "metadata": {
  "kernelspec": {
   "display_name": "Python 3 (ipykernel)",
   "language": "python",
   "name": "python3"
  },
  "language_info": {
   "codemirror_mode": {
    "name": "ipython",
    "version": 3
   },
   "file_extension": ".py",
   "mimetype": "text/x-python",
   "name": "python",
   "nbconvert_exporter": "python",
   "pygments_lexer": "ipython3",
   "version": "3.8.10"
  }
 },
 "nbformat": 4,
 "nbformat_minor": 5
}
